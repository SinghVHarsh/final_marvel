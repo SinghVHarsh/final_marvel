{
 "cells": [
  {
   "cell_type": "code",
   "execution_count": 1,
   "metadata": {},
   "outputs": [
    {
     "name": "stdout",
     "output_type": "stream",
     "text": [
      "401 Unauthorized\n"
     ]
    },
    {
     "ename": "Exception",
     "evalue": "Unauthorized",
     "output_type": "error",
     "traceback": [
      "\u001b[1;31m---------------------------------------------------------------------------\u001b[0m",
      "\u001b[1;31mException\u001b[0m                                 Traceback (most recent call last)",
      "\u001b[1;32mc:\\Users\\Harsh\\Documents\\Activity 3.ipynb Cell 1\u001b[0m in \u001b[0;36m<cell line: 37>\u001b[1;34m()\u001b[0m\n\u001b[0;32m     <a href='vscode-notebook-cell:/c%3A/Users/Harsh/Documents/Activity%203.ipynb#W1sZmlsZQ%3D%3D?line=34'>35</a>\u001b[0m priv_key \u001b[39m=\u001b[39m\u001b[39minput\u001b[39m(\u001b[39m'\u001b[39m\u001b[39mEnter the private key : \u001b[39m\u001b[39m'\u001b[39m)\n\u001b[0;32m     <a href='vscode-notebook-cell:/c%3A/Users/Harsh/Documents/Activity%203.ipynb#W1sZmlsZQ%3D%3D?line=35'>36</a>\u001b[0m namestarting\u001b[39m=\u001b[39m\u001b[39minput\u001b[39m()   \n\u001b[1;32m---> <a href='vscode-notebook-cell:/c%3A/Users/Harsh/Documents/Activity%203.ipynb#W1sZmlsZQ%3D%3D?line=36'>37</a>\u001b[0m my_function(pub_key,hash_params(),timestamp,namestarting)\n",
      "\u001b[1;32mc:\\Users\\Harsh\\Documents\\Activity 3.ipynb Cell 1\u001b[0m in \u001b[0;36mmy_function\u001b[1;34m(pub_key, hash, ts, name)\u001b[0m\n\u001b[0;32m     <a href='vscode-notebook-cell:/c%3A/Users/Harsh/Documents/Activity%203.ipynb#W1sZmlsZQ%3D%3D?line=23'>24</a>\u001b[0m \u001b[39mif\u001b[39;00m(res\u001b[39m.\u001b[39mstatus_code \u001b[39m!=\u001b[39m \u001b[39m200\u001b[39m):\n\u001b[0;32m     <a href='vscode-notebook-cell:/c%3A/Users/Harsh/Documents/Activity%203.ipynb#W1sZmlsZQ%3D%3D?line=24'>25</a>\u001b[0m     \u001b[39mprint\u001b[39m(res\u001b[39m.\u001b[39mstatus_code,res\u001b[39m.\u001b[39mreason)\n\u001b[1;32m---> <a href='vscode-notebook-cell:/c%3A/Users/Harsh/Documents/Activity%203.ipynb#W1sZmlsZQ%3D%3D?line=25'>26</a>\u001b[0m     \u001b[39mraise\u001b[39;00m \u001b[39mException\u001b[39;00m(res\u001b[39m.\u001b[39mreason)\n\u001b[0;32m     <a href='vscode-notebook-cell:/c%3A/Users/Harsh/Documents/Activity%203.ipynb#W1sZmlsZQ%3D%3D?line=27'>28</a>\u001b[0m call \u001b[39m=\u001b[39m res\u001b[39m.\u001b[39mjson()\n\u001b[0;32m     <a href='vscode-notebook-cell:/c%3A/Users/Harsh/Documents/Activity%203.ipynb#W1sZmlsZQ%3D%3D?line=28'>29</a>\u001b[0m da\u001b[39m=\u001b[39m(call[\u001b[39m'\u001b[39m\u001b[39mdata\u001b[39m\u001b[39m'\u001b[39m][\u001b[39m'\u001b[39m\u001b[39mresults\u001b[39m\u001b[39m'\u001b[39m])\n",
      "\u001b[1;31mException\u001b[0m: Unauthorized"
     ]
    }
   ],
   "source": [
    "import hashlib\n",
    "import requests\n",
    "import datetime\n",
    "import pandas as pd\n",
    "timestamp = datetime.datetime.now().strftime('%Y-%m-%d%H:%M:%S')\n",
    "def hash_params():\n",
    "    \"\"\" Marvel API requires server side API calls to include\n",
    "    md5 hash of timestamp + public key + private key \"\"\"\n",
    "\n",
    "    hash_md5 = hashlib.md5()\n",
    "    hash_md5.update(f'{timestamp}{priv_key}{pub_key}'.encode('utf-8'))\n",
    "    hashed_params = hash_md5.hexdigest()\n",
    "    hp=hashed_params\n",
    "\n",
    "    return hp\n",
    "\n",
    "def my_function(pub_key,hash,ts,name):\n",
    "    df_new=pd.DataFrame()\n",
    "    for i in range(0,4):\n",
    "        lt=20\n",
    "        params = {'ts': ts, 'apikey': pub_key, 'hash': hash,'limit':lt,'nameStartsWith':name,'limit':100,'offset': 100*i}\n",
    "        res = requests.get('https://gateway.marvel.com:443/v1/public/characters',params=params)\n",
    "        \n",
    "        if(res.status_code != 200):\n",
    "            print(res.status_code,res.reason)\n",
    "            raise Exception(res.reason)\n",
    "            \n",
    "        call = res.json()\n",
    "        da=(call['data']['results'])\n",
    "        df1=pd.json_normalize(da)\n",
    "        df_new=df_new.append(df1)\n",
    "    df2=df_new[['name','events.available','series.returned','stories.available','comics.available','id']]\n",
    "    return df2\n",
    "pub_key=input('Enter the API or public key : ')\n",
    "priv_key =input('Enter the private key : ')\n",
    "namestarting=input()   \n",
    "my_function(pub_key,hash_params(),timestamp,namestarting)"
   ]
  },
  {
   "cell_type": "code",
   "execution_count": null,
   "metadata": {},
   "outputs": [],
   "source": []
  }
 ],
 "metadata": {
  "kernelspec": {
   "display_name": "Python 3.10.4 64-bit",
   "language": "python",
   "name": "python3"
  },
  "language_info": {
   "codemirror_mode": {
    "name": "ipython",
    "version": 3
   },
   "file_extension": ".py",
   "mimetype": "text/x-python",
   "name": "python",
   "nbconvert_exporter": "python",
   "pygments_lexer": "ipython3",
   "version": "3.10.4"
  },
  "orig_nbformat": 4,
  "vscode": {
   "interpreter": {
    "hash": "34606d5b0674d1ecf37ae0942e0339c9c351e414368f881cab2da2dde4b0ce2b"
   }
  }
 },
 "nbformat": 4,
 "nbformat_minor": 2
}
